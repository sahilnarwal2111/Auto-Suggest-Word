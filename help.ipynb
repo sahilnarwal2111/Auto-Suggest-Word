{
 "cells": [
  {
   "cell_type": "code",
   "execution_count": 11,
   "metadata": {},
   "outputs": [
    {
     "name": "stdout",
     "output_type": "stream",
     "text": [
      "{'Hello': 0.1, 'World': 0.1, 'This': 0.1, 'is': 0.1, 'a': 0.2, 'test': 0.2, 'high': 0.1, 'level': 0.1}\n",
      "[0.33333333333333326, 0.0, 0.0, 0.0, 0.0, 0.0, 0.0, 0.0]\n"
     ]
    }
   ],
   "source": [
    "# Online Python compiler (interpreter) to run Python online.\n",
    "# Write Python 3 code in this online editor and run it.\n",
    "import re\n",
    "import pandas as pd\n",
    "import numpy as np\n",
    "import textdistance\n",
    "from collections import Counter\n",
    "text = \"Hello World ! , This is a a- test test high-level\"\n",
    "\n",
    "words = re.findall('\\\\w+', text)\n",
    "words += words\n",
    "# print(words)\n",
    "\n",
    "freq = {}\n",
    "freq = Counter(words)\n",
    "\n",
    "# print(freq)\n",
    "\n",
    "# print(freq.most_common()[0:1])\n",
    "V = set(words)\n",
    "total = sum(freq.values())\n",
    "# print(total)\n",
    "\n",
    "prob = {}\n",
    "\n",
    "for k in freq.keys():\n",
    "    prob[k] = freq[k] / total\n",
    "\n",
    "print(prob)\n",
    "word = \"hallo\"\n",
    "s = [1- (textdistance.Jaccard(qval = 2).distance(v,word )) for v in freq.keys()]\n",
    "\n",
    "print(s)\n",
    "\n",
    "df = pd.DataFrame.from_dict( prob, orient='index').reset_index()\n",
    "df = df.rename\n"
   ]
  }
 ],
 "metadata": {
  "kernelspec": {
   "display_name": "Python 3",
   "language": "python",
   "name": "python3"
  },
  "language_info": {
   "codemirror_mode": {
    "name": "ipython",
    "version": 3
   },
   "file_extension": ".py",
   "mimetype": "text/x-python",
   "name": "python",
   "nbconvert_exporter": "python",
   "pygments_lexer": "ipython3",
   "version": "3.11.0"
  }
 },
 "nbformat": 4,
 "nbformat_minor": 2
}
